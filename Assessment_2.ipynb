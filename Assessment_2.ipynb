{
 "cells": [
  {
   "cell_type": "code",
   "execution_count": 38,
   "id": "728b6402-a4da-4016-ac37-fc9121d05183",
   "metadata": {},
   "outputs": [
    {
     "name": "stdout",
     "output_type": "stream",
     "text": [
      "                    Jitter_2  Jitter_3  Jitter_4  Jitter_5  Jitter_6  \\\n",
      "Subject_identifier                                                     \n",
      "1                   2.319462  0.000115  1.108269  1.262692  3.324808   \n",
      "2                   2.688038  0.000215  1.274769  1.453346  3.824231   \n",
      "3                   3.006423  0.000131  1.631077  1.689115  4.892885   \n",
      "4                   1.545038  0.000063  0.806769  0.828808  2.419923   \n",
      "5                   2.749600  0.000250  1.234960  1.275200  3.704840   \n",
      "\n",
      "                    Shimmer_7  Shimmer_8  Shimmer_9  Shimmer_10  Shimmer_11  \\\n",
      "Subject_identifier                                                            \n",
      "1                   10.548308   1.067231   4.189692    6.317538   11.896231   \n",
      "2                   12.371192   1.182192   5.537654    7.136808   12.699423   \n",
      "3                   17.155731   1.494769   8.115385   10.962200   15.306125   \n",
      "4                   10.647423   1.015308   5.114423    6.672269    9.102962   \n",
      "5                   14.945240   1.369040   7.246840    9.553240   15.491000   \n",
      "\n",
      "                    ...    Pitch_20    Pulse_21    Pulse_22  Pulse_23  \\\n",
      "Subject_identifier  ...                                                 \n",
      "1                   ...  226.728654  171.500000  169.384615  0.005020   \n",
      "2                   ...  163.935231  121.346154  119.038462  0.008001   \n",
      "3                   ...  308.129154  105.769231  101.846154  0.004544   \n",
      "4                   ...  272.957500  173.230769  170.846154  0.004114   \n",
      "5                   ...  163.005480   55.884615   53.769231  0.009014   \n",
      "\n",
      "                    Pulse_24   Voice_25  Voice_26   Voice_27  UPDRS  \\\n",
      "Subject_identifier                                                    \n",
      "1                   0.000427  17.318192  0.730769   6.825923   23.0   \n",
      "2                   0.000629   9.720462  0.884615   5.673423    8.0   \n",
      "3                   0.000763  35.108115  1.115385  13.966962   40.0   \n",
      "4                   0.000283  11.514115  0.884615  10.894308    5.0   \n",
      "5                   0.000966  23.878000  1.038462  11.456154   16.0   \n",
      "\n",
      "                    PD_indicator  \n",
      "Subject_identifier                \n",
      "1                            1.0  \n",
      "2                            1.0  \n",
      "3                            1.0  \n",
      "4                            1.0  \n",
      "5                            1.0  \n",
      "\n",
      "[5 rows x 28 columns]\n"
     ]
    }
   ],
   "source": [
    "import pandas as pd\n",
    "import scipy.stats as st\n",
    "\n",
    "\n",
    "column_names=['Subject_identifier', 'Jitter_2', 'Jitter_3', 'Jitter_4', 'Jitter_5', 'Jitter_6', 'Shimmer_7', 'Shimmer_8', 'Shimmer_9', 'Shimmer_10', 'Shimmer_11', 'Shimmer_12', 'Harmonicity_13', 'Harmonicity_14', 'Harmonocity_15', 'Pitch_16', 'Pitch_17', 'Pitch_18', 'Pitch_19', 'Pitch_20', 'Pulse_21', 'Pulse_22', 'Pulse_23', 'Pulse_24', 'Voice_25', 'Voice_26', 'Voice_27', 'UPDRS', 'PD_indicator']\n",
    "df = pd.read_csv(\"po1_data.txt\", names=column_names)\n",
    "\n",
    "# print(df.info())\n",
    "grouped_df = df.groupby('Subject_identifier').mean()\n",
    "print(grouped_df.head())\n"
   ]
  },
  {
   "cell_type": "code",
   "execution_count": 33,
   "id": "53d50b4c-e594-4f34-979d-8a3e07fe35e0",
   "metadata": {},
   "outputs": [],
   "source": [
    "grouped_df.to_csv('group.txt', sep='\\t', index=False)\n"
   ]
  },
  {
   "cell_type": "code",
   "execution_count": 34,
   "id": "658b43d6-949e-4d2b-af11-a6fd3bb282b2",
   "metadata": {},
   "outputs": [
    {
     "name": "stdout",
     "output_type": "stream",
     "text": [
      "  Jitter_2\\tJitter_3\\tJitter_4\\tJitter_5\\tJitter_6\\tShimmer_7\\tShimmer_8\\tShimmer_9\\tShimmer_10\\tShimmer_11\\tShimmer_12\\tHarmonicity_13\\tHarmonicity_14\\tHarmonocity_15\\tPitch_16\\tPitch_17\\tPitch_18\\tPitch_19\\tPitch_20\\tPulse_21\\tPulse_22\\tPulse_23\\tPulse_24\\tVoice_25\\tVoice_26\\tVoice_27\\tUPDRS\\tPD_indicator\n",
      "0  2.3194615384615385\\t0.00011451592307692308\\t1....                                                                                                                                                                                                                                                                \n",
      "1  2.6880384615384614\\t0.0002146878076923077\\t1.2...                                                                                                                                                                                                                                                                \n",
      "2  3.006423076923077\\t0.00013136176923076923\\t1.6...                                                                                                                                                                                                                                                                \n",
      "3  1.5450384615384616\\t6.29915e-05\\t0.80676923076...                                                                                                                                                                                                                                                                \n",
      "4  2.7496\\t0.00025008992307692306\\t1.23496\\t1.275...                                                                                                                                                                                                                                                                \n"
     ]
    }
   ],
   "source": [
    "group = pd.read_csv('group.txt')\n",
    "\n",
    "print(group.head())"
   ]
  },
  {
   "cell_type": "code",
   "execution_count": 35,
   "id": "fcb5c18d-5ced-4b35-beb5-a47837592036",
   "metadata": {},
   "outputs": [],
   "source": [
    "PPD = grouped_df.query('PD_indicator == 1')\n",
    "non_PPD = grouped_df.query('PD_indicator == 0')\n",
    "\n",
    "\n",
    "PPD = df[df[\"PD_indicator\"]==1]\n",
    "non_PPD = df[df[\"PD_indicator\"]==0]"
   ]
  },
  {
   "cell_type": "code",
   "execution_count": 36,
   "id": "250670d8-9bd7-4a00-9d52-09cb481804ea",
   "metadata": {},
   "outputs": [
    {
     "name": "stdout",
     "output_type": "stream",
     "text": [
      "   Subject_identifier  Jitter_2  Jitter_3  Jitter_4  Jitter_5  Jitter_6  \\\n",
      "0                   1     1.488  0.000090     0.900     0.794     2.699   \n",
      "1                   1     0.728  0.000038     0.353     0.376     1.059   \n",
      "2                   1     1.220  0.000074     0.732     0.670     2.196   \n",
      "3                   1     2.502  0.000123     1.156     1.634     3.469   \n",
      "4                   1     3.509  0.000167     1.715     1.539     5.145   \n",
      "\n",
      "   Shimmer_7  Shimmer_8  Shimmer_9  Shimmer_10  ...  Pitch_20  Pulse_21  \\\n",
      "0      8.334      0.779      4.517       4.609  ...   187.576       160   \n",
      "1      5.864      0.642      2.058       3.180  ...   234.505       170   \n",
      "2      8.719      0.875      4.347       5.166  ...   211.442      1431   \n",
      "3     13.513      1.273      5.263       8.771  ...   220.230        94   \n",
      "4      9.112      1.040      3.102       4.927  ...   225.162       117   \n",
      "\n",
      "   Pulse_22  Pulse_23  Pulse_24  Voice_25  Voice_26  Voice_27  UPDRS  \\\n",
      "0       159  0.006065  0.000416     0.000         0     0.000     23   \n",
      "1       169  0.005181  0.000403     2.247         0     0.000     23   \n",
      "2      1427  0.006071  0.000474    10.656         1     0.178     23   \n",
      "3        92  0.004910  0.000320     0.000         0     0.000     23   \n",
      "4       114  0.004757  0.000380    18.182         1    13.318     23   \n",
      "\n",
      "   PD_indicator  \n",
      "0             1  \n",
      "1             1  \n",
      "2             1  \n",
      "3             1  \n",
      "4             1  \n",
      "\n",
      "[5 rows x 29 columns]\n",
      "     Subject_identifier  Jitter_2  Jitter_3  Jitter_4  Jitter_5  Jitter_6  \\\n",
      "520                  21     0.792  0.000076     0.411     0.333     1.234   \n",
      "521                  21     0.400  0.000038     0.204     0.228     0.613   \n",
      "522                  21     0.813  0.000074     0.434     0.437     1.302   \n",
      "523                  21     1.700  0.000172     0.789     0.929     2.367   \n",
      "524                  21     1.528  0.000159     0.596     0.698     1.789   \n",
      "\n",
      "     Shimmer_7  Shimmer_8  Shimmer_9  Shimmer_10  ...  Pitch_20  Pulse_21  \\\n",
      "520      4.136      0.391      2.202       2.552  ...   110.597       147   \n",
      "521     11.598      1.019      5.521       7.922  ...   108.389       105   \n",
      "522     17.380      1.473      8.595      10.105  ...   113.089        62   \n",
      "523      7.283      0.723      2.640       3.281  ...   106.806        38   \n",
      "524      8.213      0.902      2.992       4.054  ...   107.295        41   \n",
      "\n",
      "     Pulse_22  Pulse_23  Pulse_24  Voice_25  Voice_26  Voice_27  UPDRS  \\\n",
      "520       146  0.009623  0.000203     0.000         0     0.000      1   \n",
      "521       104  0.009478  0.000101     1.010         0     0.000      1   \n",
      "522        56  0.009150  0.000123    15.625         4    19.634      1   \n",
      "523        37  0.010109  0.000494     7.317         0     0.000      1   \n",
      "524        39  0.010419  0.000823    32.787         1    27.488      1   \n",
      "\n",
      "     PD_indicator  \n",
      "520             0  \n",
      "521             0  \n",
      "522             0  \n",
      "523             0  \n",
      "524             0  \n",
      "\n",
      "[5 rows x 29 columns]\n"
     ]
    }
   ],
   "source": [
    "print(PPD.head())\n",
    "\n",
    "print(non_PPD.head())"
   ]
  },
  {
   "cell_type": "code",
   "execution_count": 53,
   "id": "8ff8c9a6-daab-428b-ab65-f533b04d2ed7",
   "metadata": {},
   "outputs": [
    {
     "name": "stdout",
     "output_type": "stream",
     "text": [
      "Column Jitter_2: p-value = 0.0016347884854772462\n",
      "PPD: 2.851624230769231 and non_PPD: 2.5074211538461535\n",
      "\n",
      "Column Jitter_3: p-value = 6.090971314693189e-08\n",
      "PPD: 0.00018816717115384616 and non_PPD: 0.00015262878076923077\n",
      "\n",
      "Column Jitter_4: p-value = 0.0003294824804850235\n",
      "PPD: 1.3558614615384614 and non_PPD: 1.1382442307692306\n",
      "\n",
      "Column Jitter_5: p-value = 0.0003385472469892852\n",
      "PPD: 1.474592 and non_PPD: 1.2220622307692308\n",
      "\n",
      "Column Jitter_6: p-value = 0.0003297194372622721\n",
      "PPD: 4.067576615384615 and non_PPD: 3.414746153846154\n",
      "\n",
      "Column Shimmer_11: p-value = 2.1554753754526884e-06\n",
      "PPD: 13.095256533134615 and non_PPD: 11.335434404288463\n",
      "\n",
      "Column Harmonicity_13: p-value = 0.008894737886405843\n",
      "PPD: 0.8529605800769231 and non_PPD: 0.8390662\n",
      "\n",
      "Column Harmonicity_14: p-value = 0.014137392618962933\n",
      "PPD: 0.2198749677692308 and non_PPD: 0.24288216923076922\n",
      "\n",
      "Column Pitch_16: p-value = 0.006584477277116205\n",
      "PPD: 158.65229615384615 and non_PPD: 168.08427500000002\n",
      "\n",
      "Column Pitch_17: p-value = 0.0008537462628424347\n",
      "PPD: 162.95036807692307 and non_PPD: 174.50487307692308\n",
      "\n",
      "Column Pitch_18: p-value = 9.076190344866976e-05\n",
      "PPD: 23.10965476923077 and non_PPD: 31.98560384615385\n",
      "\n",
      "Column Pitch_20: p-value = 6.440263860668409e-06\n",
      "PPD: 217.941499 and non_PPD: 251.81048076923074\n",
      "\n",
      "Column Pulse_23: p-value = 0.0083393392976382\n",
      "PPD: 0.006699865178846154 and non_PPD: 0.006393351476923076\n",
      "\n",
      "Column Voice_25: p-value = 7.952906322322103e-05\n",
      "PPD: 25.124182692307695 and non_PPD: 30.241528846153845\n",
      "\n",
      "Column Voice_26: p-value = 0.010013752564648004\n",
      "PPD: 1.0057692307692307 and non_PPD: 1.2634615384615384\n",
      "\n",
      "Column Voice_27: p-value = 4.519132612889317e-05\n",
      "PPD: 10.458273076923076 and non_PPD: 14.281811538461538\n",
      "\n"
     ]
    }
   ],
   "source": [
    "PPD_samples = []\n",
    "non_PPD_samples = []\n",
    "salient_features = []\n",
    "count = 0\n",
    "for column in column_names:\n",
    "    if column in [\"Subject_identifier\", \"PD_indicator\", \"UPDRS\"]:\n",
    "        continue\n",
    "    PPD_samples = PPD[column].to_numpy()\n",
    "    non_PPD_samples = non_PPD[column].to_numpy()\n",
    "    \n",
    "    # mean\n",
    "    PPD_samples_mean = st.tmean(PPD_samples)\n",
    "    non_PPD_samples_mean = st.tmean(non_PPD_samples)\n",
    "    \n",
    "    # standard deviation\n",
    "    PPD_samples_std = st.tstd(PPD_samples)\n",
    "    non_PPD_samples_std = st.tstd(non_PPD_samples)\n",
    "    \n",
    "    # size\n",
    "    PPD_samples_size = len(PPD_samples)\n",
    "    non_PPD_samples_size = len(non_PPD_samples)\n",
    "    \n",
    "    # get p_value\n",
    "    t_stats, p_value = st.ttest_ind_from_stats(PPD_samples_mean, PPD_samples_std, PPD_samples_size, \n",
    "                                               non_PPD_samples_mean, non_PPD_samples_std, non_PPD_samples_size,\n",
    "                                               equal_var=False, alternative='two-sided')\n",
    "    \n",
    "    if p_value < 0.05:\n",
    "        print(f\"Column {column}: p-value = {p_value}\")\n",
    "        print(f\"PPD: {PPD_samples_mean} and non_PPD: {non_PPD_samples_mean}\\n\")\n",
    "        salient_features.append(column)\n",
    "        count += 1\n",
    "        "
   ]
  },
  {
   "cell_type": "code",
   "execution_count": 54,
   "id": "f5c62245-08d9-4ff8-90d0-77c1981a1ada",
   "metadata": {},
   "outputs": [
    {
     "name": "stdout",
     "output_type": "stream",
     "text": [
      "Set of salient acoustic features:\n",
      "Jitter_2\n",
      "Jitter_3\n",
      "Jitter_4\n",
      "Jitter_5\n",
      "Jitter_6\n",
      "Shimmer_11\n",
      "Harmonicity_13\n",
      "Harmonicity_14\n",
      "Pitch_16\n",
      "Pitch_17\n",
      "Pitch_18\n",
      "Pitch_20\n",
      "Pulse_23\n",
      "Voice_25\n",
      "Voice_26\n",
      "Voice_27\n"
     ]
    }
   ],
   "source": [
    "if count != 0:\n",
    "    print(\"Set of salient acoustic features:\")\n",
    "    for feature in salient_features:\n",
    "        print(feature)\n",
    "else: \n",
    "    print(\"There's no salient acoustic features from the dataset to distinguish between PPD and non PPD\")"
   ]
  },
  {
   "cell_type": "code",
   "execution_count": null,
   "id": "564a172d-4e82-4d6f-8cb2-fc6d1d43b815",
   "metadata": {},
   "outputs": [],
   "source": []
  }
 ],
 "metadata": {
  "kernelspec": {
   "display_name": "anaconda-panel-2023.05-py310",
   "language": "python",
   "name": "conda-env-anaconda-panel-2023.05-py310-py"
  },
  "language_info": {
   "codemirror_mode": {
    "name": "ipython",
    "version": 3
   },
   "file_extension": ".py",
   "mimetype": "text/x-python",
   "name": "python",
   "nbconvert_exporter": "python",
   "pygments_lexer": "ipython3",
   "version": "3.11.4"
  }
 },
 "nbformat": 4,
 "nbformat_minor": 5
}
